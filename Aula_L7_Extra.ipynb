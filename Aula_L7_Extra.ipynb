{
  "cells": [
    {
      "cell_type": "markdown",
      "metadata": {
        "id": "qrkwk7yqOesh"
      },
      "source": [
        "#**Exercício 06**\n",
        "\n",
        "\n",
        "Desenvolva um programa Python que leia o comprimento de três linhas. O programa deve então determinar se, com essas medidas, é possível formar um triângulo. Se for possível, o programa deve indicar que tipo de triângulo será formado:\n",
        "\n",
        "* Equilátero: Todos os lados são iguais.\n",
        "* Isósceles: Dois lados são iguais.\n",
        "* Escaleno: Todos os lados são diferentes.\n",
        "\n",
        "Lembre-se de que, para formar um triângulo, a medida de qualquer um dos lados deve ser menor que a soma das medidas dos outros dois lados."
      ]
    },
    {
      "cell_type": "code",
      "execution_count": 6,
      "metadata": {
        "id": "fLJ-bqhpOuMv"
      },
      "outputs": [
        {
          "name": "stdout",
          "output_type": "stream",
          "text": [
            "Equilátero\n"
          ]
        }
      ],
      "source": [
        "lado1 = int(input(\"Lado 1: \"))\n",
        "lado2 = int(input(\"Lado 2: \"))\n",
        "lado3 = int(input(\"Lado 3: \"))\n",
        "\n",
        "if not lado1 > lado2 + lado3 and not lado2 > lado1 + lado3 and not lado3 > lado1 + lado2:\n",
        "    if lado1 == lado2 and lado1 == lado3:\n",
        "        print(\"Equilátero\")\n",
        "    elif lado1 == lado2 or lado1 == lado3 or lado2 == lado3:\n",
        "        print(\"Isóceles\")\n",
        "    else:\n",
        "        print(\"Escaleno\")\n",
        "else:\n",
        "    print(\"Esse triângulo não é válido\")"
      ]
    },
    {
      "cell_type": "markdown",
      "metadata": {
        "id": "0gLz2BC3QWYU"
      },
      "source": [
        "#**Exercício 07**\n",
        "\n",
        "\n",
        "Uma cidade cobra a tarifa de táxi baseando-se na distância percorrida. Até 5 km, a tarifa é de R\\$ 4,00 por km. De 5 a 10 km, a tarifa é de R\\$ 3,50 por km. Acima de 10 km, a tarifa cai para R\\$ 3,00 por km. Há também uma taxa fixa de embarque de R\\$ 5,00 para qualquer corrida. Escreva um programa Python que calcule e mostre o valor total da corrida com base na distância percorrida."
      ]
    },
    {
      "cell_type": "code",
      "execution_count": 1,
      "metadata": {
        "id": "E1vV8EzEQeYT"
      },
      "outputs": [
        {
          "name": "stdout",
          "output_type": "stream",
          "text": [
            "33\n"
          ]
        }
      ],
      "source": [
        "dist = int(input(\"Distância\"))\n",
        "preco = 5\n",
        "\n",
        "if dist in range(5, 11):\n",
        "    preco += 4 * dist\n",
        "else:\n",
        "    preco += 3.5 * dist\n",
        "\n",
        "print(preco)"
      ]
    }
  ],
  "metadata": {
    "colab": {
      "provenance": []
    },
    "kernelspec": {
      "display_name": "Python 3",
      "name": "python3"
    },
    "language_info": {
      "codemirror_mode": {
        "name": "ipython",
        "version": 3
      },
      "file_extension": ".py",
      "mimetype": "text/x-python",
      "name": "python",
      "nbconvert_exporter": "python",
      "pygments_lexer": "ipython3",
      "version": "3.12.0"
    }
  },
  "nbformat": 4,
  "nbformat_minor": 0
}
