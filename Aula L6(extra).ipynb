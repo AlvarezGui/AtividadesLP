{
  "cells": [
    {
      "cell_type": "markdown",
      "metadata": {
        "id": "xsvGGMI2L4xJ"
      },
      "source": [
        "## Exercícios extras"
      ]
    },
    {
      "cell_type": "markdown",
      "metadata": {
        "id": "1dzeAG92MsqP"
      },
      "source": [
        "1. Escreva um programa que recebe um número. Verifique se o número se encontra entre 1 e 7. Se sim, exiba o valor do dia da semana correspondente."
      ]
    },
    {
      "cell_type": "code",
      "execution_count": 4,
      "metadata": {
        "id": "6HQ8XOYRL68w"
      },
      "outputs": [
        {
          "name": "stdout",
          "output_type": "stream",
          "text": [
            "Sabado\n"
          ]
        }
      ],
      "source": [
        "num = int(input(\"Número: \"))\n",
        "\n",
        "match num:\n",
        "    case 1:\n",
        "        print(\"Domingo\")\n",
        "    case 2:\n",
        "        print(\"Segunda\")\n",
        "    case 3:\n",
        "        print(\"Terça\")\n",
        "    case 4:\n",
        "        print(\"Quarta\")\n",
        "    case 5:\n",
        "        print(\"Quinta\")\n",
        "    case 6:\n",
        "        print(\"Sexta\")\n",
        "    case 7:\n",
        "        print(\"Sabado\")\n",
        "    case _:\n",
        "        print(\"Não tem esse dia\")"
      ]
    },
    {
      "cell_type": "markdown",
      "metadata": {
        "id": "FdP99lWRM9b3"
      },
      "source": [
        "2. Escreva um programa que aceite uma temperatura em Fahrenheit da água, converta essa temperatura para celsius e diga o estado físico."
      ]
    },
    {
      "cell_type": "code",
      "execution_count": 6,
      "metadata": {
        "id": "j0wtgOajNSdm"
      },
      "outputs": [
        {
          "name": "stdout",
          "output_type": "stream",
          "text": [
            "agua congelada\n"
          ]
        }
      ],
      "source": [
        "temp = int(input(\"temperatura em F°: \"))\n",
        "\n",
        "temp = (temp - 32) * 5/9\n",
        "\n",
        "if temp <= 0:\n",
        "    print(\"agua congelada\")\n",
        "elif temp >= 100:\n",
        "    print(\"agua evaporando\")\n",
        "else:\n",
        "    print(\"Agua\")"
      ]
    },
    {
      "cell_type": "markdown",
      "metadata": {
        "id": "j-q3piS6NS7x"
      },
      "source": [
        "3.  Uma loja oferece um desconto de 10% se o custo da quantidade comprada for superior a 1000. Peça ao usuário pela quantidade que deseja comprar. Suponha que uma unidade custe 100. Avalie e imprima o custo total para o usuário."
      ]
    },
    {
      "cell_type": "code",
      "execution_count": 8,
      "metadata": {
        "id": "a9yqC0DgNjkr"
      },
      "outputs": [],
      "source": [
        "quantidade = int(input(\"Quandidade: \"))\n",
        "preco = 0\n",
        "\n",
        "if quantidade * 100 >= 1000:\n",
        "    preco = quantidade * 100 - .1 * quantidade\n",
        "else:\n",
        "    preco = quantidade * 100\n",
        "\n",
        "print(preco)"
      ]
    },
    {
      "cell_type": "markdown",
      "metadata": {
        "id": "4PFq-DoVPeVB"
      },
      "source": [
        "4.  Escreva um programa que leia três números inteiros e os imprima em ordem crescente."
      ]
    },
    {
      "cell_type": "code",
      "execution_count": null,
      "metadata": {
        "id": "2Lto4X7iPfoJ"
      },
      "outputs": [],
      "source": [
        "numeros = []\n",
        "numeros.append(int(input(\"X: \")))\n",
        "numeros.append(int(input(\"Y: \")))\n",
        "numeros.append(int(input(\"Z: \")))\n",
        "condicao = input(\"Condição: \")\n",
        "\n",
        "if condicao == \"c\":\n",
        "    numeros.sort()\n",
        "    print(numeros)\n",
        "elif condicao == \"d\":\n",
        "    numeros.sort(reverse=True)\n",
        "    print(numeros)\n",
        "else:\n",
        "    print(\"Inválido\")"
      ]
    },
    {
      "cell_type": "markdown",
      "metadata": {
        "id": "hUEKrqnpZGsH"
      },
      "source": [
        "5.  Dadas as medidas de três lados de um triângulo (a, b, c), onde cada lado é um número inteiro positivo, seu programa deve determinar e imprimir se o triângulo é equilátero, isósceles ou escaleno, com base na igualdade dos lados.\n",
        "\n",
        "Um triângulo é:\n",
        "\n",
        "* Equilátero se todos os lados são iguais.\n",
        "* Isósceles se exatamente dois lados são iguais.\n",
        "* Escaleno se todos os lados são diferentes."
      ]
    },
    {
      "cell_type": "code",
      "execution_count": 16,
      "metadata": {
        "id": "ojnT4wLlZK2V"
      },
      "outputs": [
        {
          "name": "stdout",
          "output_type": "stream",
          "text": [
            "Escaleno\n"
          ]
        }
      ],
      "source": [
        "lados = []\n",
        "lados.append(int(input(\"Lado 1: \")))\n",
        "lados.append(int(input(\"Lado 2: \")))\n",
        "lados.append(int(input(\"Lado 3: \")))\n",
        "\n",
        "\n",
        "if lados[0] == lados[1] and lados[0] == lados[2]:\n",
        "    print(\"Equilátero\")\n",
        "elif lados[0] == lados[1] or lados[0] == lados[2] or lados[1] == lados[2]:\n",
        "    print(\"Isóceles\")\n",
        "else:\n",
        "    print(\"Escaleno\")\n",
        "        "
      ]
    },
    {
      "cell_type": "markdown",
      "metadata": {
        "id": "1U7KgS0gZLEB"
      },
      "source": [
        "6.  Escreva um programa que leia três números naturais e verifica se eles formam os lados de um triângulo retângulo."
      ]
    },
    {
      "cell_type": "code",
      "execution_count": 19,
      "metadata": {
        "id": "YdilMnigZNAw"
      },
      "outputs": [
        {
          "name": "stdout",
          "output_type": "stream",
          "text": [
            "è retangulo\n"
          ]
        }
      ],
      "source": [
        "lado1 = int(input(\"Hipotenusa: \"))\n",
        "lado2 = int(input(\"Lado 2: \"))\n",
        "lado3 = int(input(\"Lado 3: \"))\n",
        "\n",
        "if lado1 **2 == lado2**2 + lado3**2:\n",
        "    print(\"è retangulo\")\n",
        "else:\n",
        "    print(\"não é\")"
      ]
    },
    {
      "cell_type": "markdown",
      "metadata": {
        "id": "Zqt2c5DnNwzV"
      },
      "source": [
        "## Avançados"
      ]
    },
    {
      "cell_type": "markdown",
      "metadata": {
        "id": "qU5MjWhfN2dc"
      },
      "source": [
        "Estes exercícios envolvem outros comandos de python, como loops."
      ]
    },
    {
      "cell_type": "markdown",
      "metadata": {
        "id": "Ph1wGw6KNySy"
      },
      "source": [
        "1.  Escreva um programa que checa se um número é primo ou não."
      ]
    },
    {
      "cell_type": "code",
      "execution_count": 25,
      "metadata": {
        "id": "_WXxhIfANxyx"
      },
      "outputs": [
        {
          "name": "stdout",
          "output_type": "stream",
          "text": [
            "Primo\n"
          ]
        }
      ],
      "source": [
        "num = int(input(\"Número: \"))\n",
        "e_primo = False\n",
        "\n",
        "for i in range(2, num):\n",
        "    if num % i == 0:\n",
        "        e_primo = False\n",
        "    else: \n",
        "        e_primo = True\n",
        "\n",
        "if not e_primo:\n",
        "    print(\"Não primo\")\n",
        "else:\n",
        "    print(\"Primo\")"
      ]
    },
    {
      "cell_type": "markdown",
      "metadata": {
        "id": "elOqXHOIOawB"
      },
      "source": [
        "2.  Dados um número inteiro n, n > 0, e uma sequência com n números inteiros, determinar quantos números da sequência são pares e quantos são ímpares. Por exemplo, para a sequência  [6   -2   7   0  -5   8  4]  o seu programa deve escrever o número 4 para o número de pares e 2 para o de ímpares."
      ]
    },
    {
      "cell_type": "code",
      "execution_count": 34,
      "metadata": {
        "id": "aGXYsxGAObuS"
      },
      "outputs": [
        {
          "name": "stdout",
          "output_type": "stream",
          "text": [
            "1\n",
            "3\n",
            "5\n",
            "Tem 2 pares e 3 impares\n"
          ]
        }
      ],
      "source": [
        "quantidade = int(input(\"Quantidade: \"))\n",
        "if quantidade <= 0:\n",
        "    print(\"Não\")\n",
        "\n",
        "numeros = []\n",
        "for i in range(1, quantidade + 1):\n",
        "    numeros.append(int(input(\"Numero: \")))\n",
        "\n",
        "pares = 0\n",
        "impares = 0\n",
        "\n",
        "for i in numeros:\n",
        "    if numeros[i - 1] % 2 == 0:\n",
        "        pares +=1\n",
        "    else:\n",
        "        impares += 1\n",
        "\n",
        "print(f\"Tem {pares} pares e {impares} impares\")"
      ]
    },
    {
      "cell_type": "markdown",
      "metadata": {
        "id": "rvYQjOSdOPgs"
      },
      "source": [
        "3.  Dizemos que um número inteiro positivo é triangular se ele é o produto de três numeros inteiros consecutivos. Por exemplo, 120 é triangular, pois (4 x 5 x 6) = 120. Dado um número inteiro positivo n, verificar se n é triangular."
      ]
    },
    {
      "cell_type": "code",
      "execution_count": 1,
      "metadata": {
        "id": "SYEqLZACOWlb"
      },
      "outputs": [
        {
          "name": "stdout",
          "output_type": "stream",
          "text": [
            "True\n",
            "False\n"
          ]
        }
      ],
      "source": [
        "num = int(input(\"Numero: \"))\n",
        "e_tirangulo = False\n",
        "\n",
        "for i in range(1, num):\n",
        "    if (i-1) * i * (i + 1) == num:\n",
        "        e_tirangulo = True\n",
        "        print(e_tirangulo)\n",
        "    else:\n",
        "        e_tirangulo = False\n",
        "\n",
        "\n",
        "print(e_tirangulo)"
      ]
    }
  ],
  "metadata": {
    "colab": {
      "provenance": []
    },
    "kernelspec": {
      "display_name": "Python 3",
      "name": "python3"
    },
    "language_info": {
      "codemirror_mode": {
        "name": "ipython",
        "version": 3
      },
      "file_extension": ".py",
      "mimetype": "text/x-python",
      "name": "python",
      "nbconvert_exporter": "python",
      "pygments_lexer": "ipython3",
      "version": "3.10.5"
    }
  },
  "nbformat": 4,
  "nbformat_minor": 0
}
